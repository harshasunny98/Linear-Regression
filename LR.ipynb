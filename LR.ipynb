{
 "cells": [
  {
   "cell_type": "code",
   "execution_count": 33,
   "metadata": {
    "scrolled": true
   },
   "outputs": [
    {
     "name": "stdout",
     "output_type": "stream",
     "text": [
      "[[          nan           nan]\n",
      " [  32.50234527   31.70700585]\n",
      " [  53.42680403   68.77759598]\n",
      " [  61.53035803   62.5623823 ]\n",
      " [  47.47563963   71.54663223]\n",
      " [  59.81320787   87.23092513]\n",
      " [  55.14218841   78.21151827]\n",
      " [  52.21179669   79.64197305]\n",
      " [  39.29956669   59.17148932]\n",
      " [  48.10504169   75.3312423 ]\n",
      " [  52.55001444   71.30087989]\n",
      " [  45.41973014   55.16567715]\n",
      " [  54.35163488   82.47884676]\n",
      " [  44.1640495    62.00892325]\n",
      " [  58.16847072   75.39287043]\n",
      " [  56.72720806   81.43619216]\n",
      " [  48.95588857   60.72360244]\n",
      " [  44.68719623   82.89250373]\n",
      " [  60.29732685   97.37989686]\n",
      " [  45.61864377   48.84715332]\n",
      " [  38.81681754   56.87721319]\n",
      " [  66.18981661   83.87856466]\n",
      " [  65.41605175  118.5912173 ]\n",
      " [  47.48120861   57.25181946]\n",
      " [  41.57564262   51.39174408]\n",
      " [  51.84518691   75.38065167]\n",
      " [  59.37082201   74.76556403]\n",
      " [  57.31000344   95.45505292]\n",
      " [  63.61556125   95.22936602]\n",
      " [  46.73761941   79.05240617]\n",
      " [  50.55676015   83.43207142]\n",
      " [  52.22399609   63.35879032]\n",
      " [  35.56783005   41.4128853 ]\n",
      " [  42.43647694   76.61734128]\n",
      " [  58.16454011   96.76956643]\n",
      " [  57.50444762   74.08413012]\n",
      " [  45.44053073   66.58814441]\n",
      " [  61.89622268   77.76848242]\n",
      " [  33.09383174   50.71958891]\n",
      " [  36.43600951   62.12457082]\n",
      " [  37.67565486   60.81024665]\n",
      " [  44.55560838   52.68298337]\n",
      " [  43.31828263   58.56982472]\n",
      " [  50.07314563   82.90598149]\n",
      " [  43.87061265   61.4247098 ]\n",
      " [  62.99748075  115.2441528 ]\n",
      " [  32.66904376   45.57058882]\n",
      " [  40.16689901   54.0840548 ]\n",
      " [  53.57507753   87.99445276]\n",
      " [  33.86421497   52.72549438]\n",
      " [  64.70713867   93.57611869]\n",
      " [  38.11982403   80.16627545]\n",
      " [  44.50253806   65.10171157]\n",
      " [  40.59953838   65.56230126]\n",
      " [  41.72067636   65.28088692]\n",
      " [  51.08863468   73.43464155]\n",
      " [  55.0780959    71.13972786]\n",
      " [  41.37772653   79.10282968]\n",
      " [  62.49469743   86.52053844]\n",
      " [  49.20388754   84.74269781]\n",
      " [  41.10268519   59.35885025]\n",
      " [  41.18201611   61.68403752]\n",
      " [  50.18638949   69.84760416]\n",
      " [  52.37844622   86.09829121]\n",
      " [  50.13548549   59.10883927]\n",
      " [  33.64470601   69.89968164]\n",
      " [  39.55790122   44.86249071]\n",
      " [  56.13038882   85.49806778]\n",
      " [  57.36205213   95.53668685]\n",
      " [  60.26921439   70.25193442]\n",
      " [  35.67809389   52.72173496]\n",
      " [  31.588117     50.39267014]\n",
      " [  53.66093226   63.64239878]\n",
      " [  46.68222865   72.24725107]\n",
      " [  43.10782022   57.81251298]\n",
      " [  70.34607562  104.2571016 ]\n",
      " [  44.49285588   86.64202032]\n",
      " [  57.5045333    91.486778  ]\n",
      " [  36.93007661   55.23166089]\n",
      " [  55.80573336   79.55043668]\n",
      " [  38.95476907   44.84712424]\n",
      " [  56.9012147    80.20752314]\n",
      " [  56.86890066   83.14274979]\n",
      " [  34.3331247    55.72348926]\n",
      " [  59.04974121   77.63418251]\n",
      " [  57.78822399   99.05141484]\n",
      " [  54.28232871   79.12064627]\n",
      " [  51.0887199    69.58889785]\n",
      " [  50.28283635   69.51050331]\n",
      " [  44.21174175   73.68756432]\n",
      " [  38.00548801   61.36690454]\n",
      " [  32.94047994   67.17065577]\n",
      " [  53.69163957   85.66820315]\n",
      " [  68.76573427  114.8538712 ]\n",
      " [  46.2309665    90.12357207]\n",
      " [  68.31936082   97.91982104]\n",
      " [  50.03017434   81.53699078]\n",
      " [  49.23976534   72.11183247]\n",
      " [  50.03957594   85.23200734]\n",
      " [  48.14985889   66.22495789]\n",
      " [  25.12848465   53.45439421]]\n"
     ]
    }
   ],
   "source": [
    "#reading data from 'data.csv'\n",
    "from numpy import *\n",
    "data=genfromtxt(\"data.csv\",delimiter=\",\")\n",
    "print(data)"
   ]
  },
  {
   "cell_type": "code",
   "execution_count": 34,
   "metadata": {
    "collapsed": true
   },
   "outputs": [],
   "source": [
    "#deleating first row\n",
    "data=delete(data,(0),axis=0)"
   ]
  },
  {
   "cell_type": "code",
   "execution_count": 35,
   "metadata": {},
   "outputs": [
    {
     "name": "stdout",
     "output_type": "stream",
     "text": [
      "[ 32.50234527  53.42680403  61.53035803  47.47563963  59.81320787\n",
      "  55.14218841  52.21179669  39.29956669  48.10504169  52.55001444\n",
      "  45.41973014  54.35163488  44.1640495   58.16847072  56.72720806\n",
      "  48.95588857  44.68719623  60.29732685  45.61864377  38.81681754\n",
      "  66.18981661  65.41605175  47.48120861  41.57564262  51.84518691\n",
      "  59.37082201  57.31000344  63.61556125  46.73761941  50.55676015\n",
      "  52.22399609  35.56783005  42.43647694  58.16454011  57.50444762\n",
      "  45.44053073  61.89622268  33.09383174  36.43600951  37.67565486\n",
      "  44.55560838  43.31828263  50.07314563  43.87061265  62.99748075\n",
      "  32.66904376  40.16689901  53.57507753  33.86421497  64.70713867\n",
      "  38.11982403  44.50253806  40.59953838  41.72067636  51.08863468\n",
      "  55.0780959   41.37772653  62.49469743  49.20388754  41.10268519\n",
      "  41.18201611  50.18638949  52.37844622  50.13548549  33.64470601\n",
      "  39.55790122  56.13038882  57.36205213  60.26921439  35.67809389\n",
      "  31.588117    53.66093226  46.68222865  43.10782022  70.34607562\n",
      "  44.49285588  57.5045333   36.93007661  55.80573336  38.95476907\n",
      "  56.9012147   56.86890066  34.3331247   59.04974121  57.78822399\n",
      "  54.28232871  51.0887199   50.28283635  44.21174175  38.00548801\n",
      "  32.94047994  53.69163957  68.76573427  46.2309665   68.31936082\n",
      "  50.03017434  49.23976534  50.03957594  48.14985889  25.12848465]\n"
     ]
    }
   ],
   "source": [
    "#storing y coordinates into another array list\n",
    "y_mat=array(data[:,len(data[0])-1])\n",
    "ex_mat=array(data[:,len(data[0])-2])\n",
    "print(ex_mat)"
   ]
  },
  {
   "cell_type": "code",
   "execution_count": 36,
   "metadata": {
    "collapsed": true
   },
   "outputs": [],
   "source": [
    "#replacing all values of y with 1 in data.\n",
    "a_mat=data\n",
    "a_mat[:,len(a_mat[0])-1]=1"
   ]
  },
  {
   "cell_type": "code",
   "execution_count": 37,
   "metadata": {
    "collapsed": true
   },
   "outputs": [],
   "source": [
    "#resizing y_mat to column array\n",
    "y_mat.resize(len(a_mat),1)"
   ]
  },
  {
   "cell_type": "code",
   "execution_count": 38,
   "metadata": {
    "collapsed": true
   },
   "outputs": [],
   "source": [
    "#caliculating unkown b0,b1 by using lstsq\n",
    "x_mat=matrix(linalg.lstsq(a_mat,y_mat)[0])\n",
    "x_mat.resize(len(a_mat[0]),1)\n",
    "y_pred=dot(a_mat,x_mat)"
   ]
  },
  {
   "cell_type": "code",
   "execution_count": 39,
   "metadata": {
    "collapsed": true
   },
   "outputs": [],
   "source": [
    "#caliculating error\n",
    "diff=(y_mat-y_pred)\n",
    "error=sum(multiply(diff,diff))/len(a_mat)"
   ]
  },
  {
   "cell_type": "code",
   "execution_count": 40,
   "metadata": {},
   "outputs": [
    {
     "name": "stdout",
     "output_type": "stream",
     "text": [
      "b0=41.22170864003033\n",
      "b1=50.97313068089473\n",
      "Error: 110.257383449\n"
     ]
    }
   ],
   "source": [
    "print(\"b0=\",float(y_pred[len(y_pred)-1]),sep=\"\")\n",
    "for i in range(len(x_mat)-1):\n",
    "    print(\"b\",i+1,\"=\",float(y_pred[i]),sep=\"\")\n",
    "print(\"Error:\",error)  "
   ]
  },
  {
   "cell_type": "code",
   "execution_count": 41,
   "metadata": {},
   "outputs": [
    {
     "data": {
      "text/plain": [
       "[<matplotlib.lines.Line2D at 0x275fa4d7898>]"
      ]
     },
     "execution_count": 41,
     "metadata": {},
     "output_type": "execute_result"
    }
   ],
   "source": [
    "#plotting results\n",
    "from matplotlib import pyplot as plt\n",
    "plt.scatter(ex_mat,y_mat)\n",
    "#plt.plot(ex_mat,y_mat,'ro')\n",
    "plt.grid()\n",
    "plt.plot(ex_mat,y_pred,color=\"red\")    "
   ]
  },
  {
   "cell_type": "code",
   "execution_count": 42,
   "metadata": {},
   "outputs": [
    {
     "data": {
      "image/png": "[encoded data removed]",
      "text/plain": [
       "<matplotlib.figure.Figure at 0x275fa4d7e48>"
      ]
     },
     "metadata": {},
     "output_type": "display_data"
    }
   ],
   "source": [
    "plt.show()"
   ]
  },
  {
   "cell_type": "code",
   "execution_count": null,
   "metadata": {
    "collapsed": true
   },
   "outputs": [],
   "source": []
  }
 ],
 "metadata": {
  "kernelspec": {
   "display_name": "Python 3",
   "language": "python",
   "name": "python3"
  },
  "language_info": {
   "codemirror_mode": {
    "name": "ipython",
    "version": 3
   },
   "file_extension": ".py",
   "mimetype": "text/x-python",
   "name": "python",
   "nbconvert_exporter": "python",
   "pygments_lexer": "ipython3",
   "version": "3.6.1"
  }
 },
 "nbformat": 4,
 "nbformat_minor": 2
}
